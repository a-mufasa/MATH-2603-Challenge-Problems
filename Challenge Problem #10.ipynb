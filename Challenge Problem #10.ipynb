{
 "cells": [
  {
   "cell_type": "markdown",
   "metadata": {},
   "source": [
    "# Linear Homogeneous Recurrence Relation Solver\n",
    "\n",
    "## rrsolver\n",
    "\n",
    "A **linear homogeneous recurrence relation** is a linear combination of numbers that occur earlier in the sequence where there are no additional terms in the expression for f(n) (besides those that refer to earlier numbers in the sequence).\n",
    "\n",
    "A linear homogeneous recurrence relation is written in the form:\n",
    "\n",
    "$$f_n = c_1f_{n-1} + c_2f_{n-2} + ... + c_kf_{n-k} \\quad$$\n",
    "\n",
    "\n",
    "* First we find the discriminant (b^2-4ac) of the function and check its sign. If negative, we return that there are no real roots. We then calculate the roots x and y using the sqrt function we imported.\n",
    "\n",
    "\n",
    "* Now that we have the discriminant and the roots, we solve the recurrence relation when the discriminant is equal to zero. In this case there is only one root (x) and we find its coefficient in the recurrence relation. We then print out the recurrence relation for the input (check sign of coefficient to determine what the sign in the string is).\n",
    "\n",
    "\n",
    "* Now we check the final case where the discriminant is positive. In this case there are two roots (x and y) and we must find their coefficients. To find the coefficients we create and array/matrix that we apply the **Numerical Python Library** (numpy) we imported to. Using numpy's linear algebra solver, we can get the coefficients for the two roots (soln[0] and soln[1]). Finally we print the recurrence relation as a string according to the form for linear homogenous recurrence relations."
   ]
  },
  {
   "cell_type": "code",
   "execution_count": 4,
   "metadata": {},
   "outputs": [],
   "source": [
    "from math import sqrt #Square Root function\n",
    "import numpy #Numerical Python Library\n",
    "\n",
    "def rrsolver(c1, c2, A, B):\n",
    "    discriminant = pow(c1,2)+4*c2 # Find discriminant (Quadratic Formula set to 0)\n",
    "    if discriminant < 0:\n",
    "        print(\"There are no real roots\")\n",
    "        return\n",
    "    \n",
    "    # Find the roots using the Quadratic Formula\n",
    "    x = (c1 + sqrt(discriminant))/2\n",
    "    y = (c1 - sqrt(discriminant))/2\n",
    "\n",
    "    if discriminant == 0:\n",
    "        k = A # 1st coefficient is equal to A because n=0 for the 2nd term\n",
    "        co = B/x-k # 2nd coefficient is found using B = (k+co)*x\n",
    "        if co < 0:\n",
    "            print(\"a(n) = %s*(%s)^n - %sn*(%s)^n\" % (k, x, (-1)*co, x)) \n",
    "        else:\n",
    "            print(\"a(n) = %s*(%s)^n + %sn*(%s)^n\" % (k, x, co, x))\n",
    "        return\n",
    "    else:\n",
    "        r = [[1,1], [x,y]] # Matrix for 1st coefficient\n",
    "        s = [A,B] # Array for 2nd coefficient\n",
    "        soln = numpy.linalg.solve(r,s)\n",
    "        print(\"a(n) = (%s)*(%s)^n + (%s)*(%s)^n\" % (soln[0], x, soln[1], y))\n",
    "        return"
   ]
  }
 ],
 "metadata": {
  "kernelspec": {
   "display_name": "Python 3",
   "language": "python",
   "name": "python3"
  },
  "language_info": {
   "codemirror_mode": {
    "name": "ipython",
    "version": 3
   },
   "file_extension": ".py",
   "mimetype": "text/x-python",
   "name": "python",
   "nbconvert_exporter": "python",
   "pygments_lexer": "ipython3",
   "version": "3.7.3"
  }
 },
 "nbformat": 4,
 "nbformat_minor": 2
}
