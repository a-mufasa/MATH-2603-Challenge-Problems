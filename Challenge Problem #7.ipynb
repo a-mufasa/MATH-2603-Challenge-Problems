{
 "cells": [
  {
   "cell_type": "markdown",
   "metadata": {},
   "source": [
    "# Relation property finder functions\n",
    "\n",
    "## isReflexive ##\n",
    "\n",
    "The relation on a set A is **reflexive** if and only if *for every x* that is a member of A, x is related to x\n",
    "* The function loops through all keys in the relation dictionary and if the value at that key does not include the key, the function returns false as the relation would not be reflexive\n",
    "\n",
    "*The 3 functions other than isReflexive() ignore cases when the key and value are equal to each other:* {i:[i]}\n",
    "\n",
    "## isSymmetric\n",
    "\n",
    "The relation on set A is **symmetric** if and only if *for every pair*, x and y that are members of A, x is related to y if and only if y is related to x\n",
    "* The function loops through all related elements in the relation dictionary using a nested for loop (loops through the values for each key). If the elements don't exist in reverse, the function returns false as the relation would not be symmetric; if (i,j) exists, (j,i) must exist\n",
    "\n",
    "## isAntisymmetric\n",
    "\n",
    "The relation on set A is **anti-symmetric** if and only if *for every pair*, x and y that are members of A, x is related to y and if y is related to x cannot both be true unless x is equal to y\n",
    "* The function loops through all related elements in the relation dictionary using a nested for loop (loops through the values for each key). If the elements are **not equal** and exist in reverse, the function returns false as the relation would not be anti-symmetric; if (i,j) exists, (j,i) cannot exist\n",
    "\n",
    "## isTransitive\n",
    "\n",
    "The relation on set A is **transitive** if and only if *for every three elements*, x, y, and z that are members of A, if x is related to y and y is related to z, then x must be related z\n",
    "* The function iterates through the keys (i), the values (j) of each key, and the values (k) of each of the values as a key (j). If the final value k is not a member of the values at the initial key i, the function returns false as the relation would not be transitive; if (i,j) and (j,k) exists, (i,k) must exist"
   ]
  },
  {
   "cell_type": "code",
   "execution_count": 305,
   "metadata": {},
   "outputs": [],
   "source": [
    "# This function tests whether the input relation on a set is reflexive or not\n",
    "def isReflexive(r):\n",
    "    for i in r: #iterates through each key in the relation dictionary\n",
    "        if i not in r[i]: #checks if the value doesn't contains the key; is (i,i) not part of the relation \n",
    "            return False\n",
    "    return True\n",
    "\n",
    "# This function tests whether the input relation on a set is symmetric or not\n",
    "def isSymmetric(r):\n",
    "    for i in r: #iterates through each key in the relation dictionary\n",
    "        for j in r[i]: #iterates through the value at each index\n",
    "            if i != j: #ignores reflexive\n",
    "                if i not in r[j]: #checks if (j,i) is not part of the relation; j becomes the key and this checks if i is a member of the value\n",
    "                    return False\n",
    "    return True\n",
    "\n",
    "# This function tests whether the input relation on a set is antisymmetric or not\n",
    "def isAntisymmetric(r):\n",
    "    for i in r: #iterates through each key in the relation dictionary\n",
    "        for j in r[i]: #iterates through the value at each key\n",
    "            if i != j: #ignores reflexive\n",
    "                if i in r[j]: #checks if (j,i) is a part of the relation; j becomes the key and this checks if i is a member of the value\n",
    "                    return False\n",
    "    return True\n",
    "\n",
    "# This function tests whether the input relation on a set is transitive or not\n",
    "def isTransitive(r):\n",
    "    for i in r: #iterates through each key in the relation dictionary\n",
    "        for j in r[i]: #iterates through the value at each key i; (i,j)\n",
    "            for k in r[j]: #iterates through the value at each key j; (j,k)\n",
    "                if i != k: #ignore reflexive\n",
    "                    if k not in r[i]: #checks if (i,k) is not a part of the relation\n",
    "                        return False\n",
    "    return True"
   ]
  }
 ],
 "metadata": {
  "kernelspec": {
   "display_name": "Python 3",
   "language": "python",
   "name": "python3"
  },
  "language_info": {
   "codemirror_mode": {
    "name": "ipython",
    "version": 3
   },
   "file_extension": ".py",
   "mimetype": "text/x-python",
   "name": "python",
   "nbconvert_exporter": "python",
   "pygments_lexer": "ipython3",
   "version": "3.7.3"
  }
 },
 "nbformat": 4,
 "nbformat_minor": 2
}
