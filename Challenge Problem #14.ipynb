{
 "cells": [
  {
   "cell_type": "markdown",
   "metadata": {},
   "source": [
    "# Challenge Problem 14: Clustering Coefficients\n",
    "\n",
    "## my_clustering\n",
    "\n",
    "The my_clustering method uses the NetworkX library to find the correlation coefficient of a vertex for a graph (match the output of the NetworkX clustering method). Since the my_clustering method needs to work for a single input (g) to output a dictionary and two inputs (g, v) to output a single coefficient, we set the definition of the method to a graph input and a default vertex input. This makes it so that an \"empty\" vertex input will cause an if statement to recursively call my_clustering(g, node) for each of the nodes in the graph, inserting them into a dictionary and returning it.\n",
    "\n",
    "The two input my_clustering(g,v) will create a neighborhood Nv of the specified node using NetworkX's ego_graph (excludes the node selected from the neighborhood as shown in the directions). We then use NetworkX methods to to find the number of edges and vertices in the neighborhood. Afterword, we plug the values into the formula and return the result for correlation coefficients below:\n",
    "\n",
    "$$ cl(G,v)=\\frac{|\\text{Edges in }N_v|}{{l_v\\choose 2}}$$\n",
    "\n",
    "### find_factorial\n",
    "\n",
    "* To find ${{l_v\\choose 2}}$ I made a find_factorial method that takes an input number and returns the factorial using recursive multiplication. The formula for ${{n\\choose k}}$ is ${\\frac{n!}{k!(n-k)!}}$ therefore we can use the find_factorial method in our return statement of my_clustering.\n",
    "\n",
    "## overall_clustering\n",
    "\n",
    "The overall_clustering(g) method simply returns the average of the clustering coefficients of a graph from my_clustering(g). To do this, we iterate through each index (node) of the dictionary, adding the clustering coefficient at that node to a running total that we then divide by the # of vertices to get the average clustering coefficient."
   ]
  },
  {
   "cell_type": "code",
   "execution_count": 234,
   "metadata": {},
   "outputs": [],
   "source": [
    "import networkx as nx #NetworkX library\n",
    "\n",
    "def find_factorial(n): #factorial method used in lv choose 2\n",
    "    if n < 1:\n",
    "        return 1 \n",
    "    else:\n",
    "        return n*find_factorial(n-1)\n",
    "\n",
    "def my_clustering(g, v = None): #returns a single coefficient or a dictionary of coefficients\n",
    "    g_vertices = nx.number_of_nodes(g)\n",
    "    if v == None:\n",
    "        coeff_dict = dict()\n",
    "        for node in range(g_vertices):\n",
    "            coeff_dict[node] = my_clustering(g, node)\n",
    "        return coeff_dict\n",
    "    \n",
    "    Nv = nx.ego_graph(g, v, center = False)\n",
    "    Nv_edges = nx.number_of_edges(Nv)\n",
    "    lv = nx.number_of_nodes(Nv)\n",
    "    return Nv_edges/(find_factorial(lv)/(2*find_factorial(lv-2))) #Using given clustering coeff and choose formula; (2! = 2)\n",
    "\n",
    "def overall_clustering(g): #returns average of clustering coefficients for the graph\n",
    "    g_vertices = nx.number_of_nodes(g)\n",
    "    total = 0\n",
    "    \n",
    "    for node in range(g_vertices):\n",
    "        total += my_clustering(g, node)\n",
    "                     \n",
    "    return total/g_vertices"
   ]
  }
 ],
 "metadata": {
  "kernelspec": {
   "display_name": "Python 3",
   "language": "python",
   "name": "python3"
  },
  "language_info": {
   "codemirror_mode": {
    "name": "ipython",
    "version": 3
   },
   "file_extension": ".py",
   "mimetype": "text/x-python",
   "name": "python",
   "nbconvert_exporter": "python",
   "pygments_lexer": "ipython3",
   "version": "3.7.3"
  }
 },
 "nbformat": 4,
 "nbformat_minor": 2
}
